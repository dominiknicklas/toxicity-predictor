{
 "cells": [
  {
   "cell_type": "code",
   "execution_count": 8,
   "id": "9ea26bbe-3686-45f6-9735-cf878d0f4004",
   "metadata": {},
   "source": [
    "!pip install tensorflow pandas matplotlib scikit-learn"
   ],
   "outputs": []
  },
  {
   "cell_type": "code",
   "execution_count": 12,
   "id": "40cb9fb9-ee31-45ac-998d-5073363a077c",
   "metadata": {},
   "source": [
    "import os\n",
    "import pandas as pd\n",
    "import tensorflow as tf\n",
    "import numpy as np"
   ],
   "outputs": []
  },
  {
   "metadata": {},
   "cell_type": "code",
   "outputs": [],
   "execution_count": null,
   "source": "df = pd.read_csv(os.path.join('jigsaw-toxic-comment-classification-challenge', 'train.csv', 'train.csv'))",
   "id": "4675356b8eee4ae0"
  },
  {
   "metadata": {},
   "cell_type": "code",
   "outputs": [],
   "execution_count": null,
   "source": "df.head()",
   "id": "1e62caab0fc54646"
  },
  {
   "metadata": {},
   "cell_type": "code",
   "outputs": [],
   "execution_count": null,
   "source": "from tensorflow.keras.layers import TextVectorization",
   "id": "5a934a87c48d8f52"
  },
  {
   "metadata": {},
   "cell_type": "code",
   "outputs": [],
   "execution_count": null,
   "source": [
    "X = df['comment_text']\n",
    "Y = df[df.columns[2:]].values"
   ],
   "id": "6056061687b64a82"
  },
  {
   "metadata": {},
   "cell_type": "code",
   "outputs": [],
   "execution_count": null,
   "source": "MAX_FEATURES = 200000 # number of words in the vocab",
   "id": "877bb9d6daaeb146"
  },
  {
   "metadata": {},
   "cell_type": "code",
   "outputs": [],
   "execution_count": null,
   "source": "vectorizer = TextVectorization(max_tokens=MAX_FEATURES, output_sequence_length=1800, output_mode='int')",
   "id": "e861db9499fc6e8d"
  },
  {
   "metadata": {},
   "cell_type": "code",
   "outputs": [],
   "execution_count": null,
   "source": "vectorizer.adapt(X.values)",
   "id": "a7c6e04f80d227cd"
  },
  {
   "metadata": {},
   "cell_type": "code",
   "outputs": [],
   "execution_count": null,
   "source": "vectorizer.get_vocabulary()",
   "id": "50cf155d1b61db1"
  },
  {
   "metadata": {},
   "cell_type": "code",
   "outputs": [],
   "execution_count": null,
   "source": "vectorized_text = vectorizer(X.values)",
   "id": "74049faa5345b727"
  },
  {
   "metadata": {},
   "cell_type": "code",
   "outputs": [],
   "execution_count": null,
   "source": "vectorized_text # tokenized comments",
   "id": "b439ad59a0cb51f1"
  },
  {
   "metadata": {},
   "cell_type": "code",
   "outputs": [],
   "execution_count": null,
   "source": [
    "dataset = tf.data.Dataset.from_tensor_slices((vectorized_text, Y))\n",
    "dataset = dataset.cache()\n",
    "dataset = dataset.shuffle(160000)\n",
    "dataset = dataset.batch(16)\n",
    "dataset = dataset.prefetch(8)"
   ],
   "id": "ae1750198a5f3cb8"
  },
  {
   "metadata": {},
   "cell_type": "code",
   "outputs": [],
   "execution_count": null,
   "source": "batch_X, batch_Y = dataset.as_numpy_iterator().next()",
   "id": "697afb6440455204"
  },
  {
   "metadata": {},
   "cell_type": "code",
   "outputs": [],
   "execution_count": null,
   "source": "batch_X.shape",
   "id": "1788935a1238d651"
  },
  {
   "metadata": {},
   "cell_type": "code",
   "outputs": [],
   "execution_count": null,
   "source": "batch_Y.shape",
   "id": "d4c6d127db7dd198"
  },
  {
   "metadata": {},
   "cell_type": "code",
   "outputs": [],
   "execution_count": null,
   "source": [
    "train = dataset.take(int(len(dataset)*.7))\n",
    "val = dataset.skip(int(len(dataset)*.7)).take(int(len(dataset)*.2))\n",
    "test = dataset.skip(int(len(dataset)*.9)).take(int(len(dataset)*.1))"
   ],
   "id": "7b488c996a980b47"
  },
  {
   "metadata": {},
   "cell_type": "code",
   "outputs": [],
   "execution_count": null,
   "source": [
    "from tensorflow.keras.models import Sequential\n",
    "from tensorflow.keras.layers import LSTM, Dropout, Bidirectional, Dense, Embedding"
   ],
   "id": "c5f04ceb33e5afbb"
  },
  {
   "metadata": {},
   "cell_type": "code",
   "outputs": [],
   "execution_count": null,
   "source": [
    "model = Sequential()\n",
    "# Create embedding layer \n",
    "model.add(Embedding(MAX_FEATURES+1, 32))\n",
    "# Create Bidirectional LSTM Layer\n",
    "model.add(Bidirectional(LSTM(32, activation='tanh')))\n",
    "# Feature extractor Fully connected layers\n",
    "model.add(Dense(128, activation='relu'))\n",
    "model.add(Dense(256, activation='relu'))\n",
    "model.add(Dense(128, activation='relu'))\n",
    "# Final layer \n",
    "model.add(Dense(6, activation='sigmoid')) # outputs between 0 and 1"
   ],
   "id": "6a4345a79a6f434b"
  },
  {
   "metadata": {},
   "cell_type": "code",
   "outputs": [],
   "execution_count": null,
   "source": "model.compile(loss='BinaryCrossentropy', optimizer='Adam')",
   "id": "ff97230df0f42feb"
  },
  {
   "metadata": {},
   "cell_type": "code",
   "outputs": [],
   "execution_count": null,
   "source": "history = model.fit(train, epochs=10, validation_data=val) # epochs should be increased to 10",
   "id": "50a3c0ee610d490f"
  },
  {
   "metadata": {},
   "cell_type": "code",
   "outputs": [],
   "execution_count": null,
   "source": "model.summary()",
   "id": "6fee15c6934a56e0"
  },
  {
   "metadata": {},
   "cell_type": "code",
   "outputs": [],
   "execution_count": null,
   "source": "from matplotlib import pyplot as plt",
   "id": "49b2ab17c6fc36a1"
  },
  {
   "metadata": {},
   "cell_type": "code",
   "outputs": [],
   "execution_count": null,
   "source": "history.history",
   "id": "eaefc4c5a2b673f2"
  },
  {
   "metadata": {},
   "cell_type": "code",
   "outputs": [],
   "execution_count": null,
   "source": "input_text = vectorizer('You freaking suck! Im going to kill you!')",
   "id": "141ecd7981817b9b"
  },
  {
   "metadata": {},
   "cell_type": "code",
   "outputs": [],
   "execution_count": null,
   "source": [
    "res = model.predict(np.expand_dims(input_text,0))\n",
    "res"
   ],
   "id": "4ba51164fada6d69"
  },
  {
   "cell_type": "code",
   "execution_count": 167,
   "id": "acbca618-731a-40df-aeb9-73cadd8edd83",
   "metadata": {},
   "source": [
    "from tensorflow.keras.metrics import AUC, Precision, Recall, CategoricalAccuracy"
   ],
   "outputs": []
  },
  {
   "cell_type": "code",
   "execution_count": 169,
   "id": "e1d7f0e1-940c-433c-bc2d-923dd5e626b7",
   "metadata": {},
   "source": [
    "pre = Precision()\n",
    "re = Recall()\n",
    "acc = CategoricalAccuracy()\n",
    "auc = AUC()"
   ],
   "outputs": []
  },
  {
   "cell_type": "code",
   "execution_count": 171,
   "id": "7393e805-b932-4024-9a3c-6898baeedfb8",
   "metadata": {},
   "source": [
    "for batch in test.as_numpy_iterator(): \n",
    "    # Unpack the batch \n",
    "    X_true, y_true = batch\n",
    "    # Make a prediction \n",
    "    yhat = model.predict(X_true)\n",
    "    \n",
    "    # Flatten the predictions -> convert into one big array instead of array of arrays\n",
    "    y_true = y_true.flatten()\n",
    "    yhat = yhat.flatten()\n",
    "    \n",
    "    pre.update_state(y_true, yhat)\n",
    "    re.update_state(y_true, yhat)\n",
    "    acc.update_state(y_true, yhat)\n",
    "    auc.update_state(y_true, yhat)"
   ],
   "outputs": []
  },
  {
   "cell_type": "code",
   "execution_count": 173,
   "id": "652367f4-cf72-432c-8b08-9793ae7171de",
   "metadata": {},
   "source": [
    "print(f'Precision: {pre.result().numpy()}, Recall:{re.result().numpy()}, AUC:{auc.result().numpy()}, Accuracy:{acc.result().numpy()}')"
   ],
   "outputs": []
  },
  {
   "cell_type": "code",
   "execution_count": null,
   "id": "e220c9d4-1933-469d-bbab-0db5aceeea6d",
   "metadata": {},
   "source": [
    "model.save('toxicity.keras')"
   ],
   "outputs": []
  },
  {
   "cell_type": "code",
   "execution_count": 9,
   "id": "6c4a4c04-e8cd-446b-b3f1-4000ca871be5",
   "metadata": {},
   "source": [
    "model = tf.keras.models.load_model('toxicity.keras')"
   ],
   "outputs": []
  },
  {
   "cell_type": "code",
   "execution_count": 222,
   "id": "fa148dea-fbe4-45f2-aef4-3f0154cec675",
   "metadata": {},
   "source": [
    "import pickle\n",
    "\n",
    "with open('vectorizer.pkl', 'wb') as f:\n",
    "    pickle.dump(vectorizer, f)"
   ],
   "outputs": []
  }
 ],
 "metadata": {
  "kernelspec": {
   "display_name": "Python [conda env:base] *",
   "language": "python",
   "name": "conda-base-py"
  },
  "language_info": {
   "codemirror_mode": {
    "name": "ipython",
    "version": 3
   },
   "file_extension": ".py",
   "mimetype": "text/x-python",
   "name": "python",
   "nbconvert_exporter": "python",
   "pygments_lexer": "ipython3",
   "version": "3.12.7"
  }
 },
 "nbformat": 4,
 "nbformat_minor": 5
}
